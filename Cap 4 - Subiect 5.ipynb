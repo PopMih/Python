{
  "nbformat": 4,
  "nbformat_minor": 0,
  "metadata": {
    "colab": {
      "provenance": []
    },
    "kernelspec": {
      "name": "python3",
      "display_name": "Python 3"
    },
    "language_info": {
      "name": "python"
    }
  },
  "cells": [
    {
      "cell_type": "code",
      "source": [
        "import pandas as pd\n",
        "alt_format = \"%m.%d.%Y %H:%M:%S\"\n",
        "import matplotlib.pyplot as plt"
      ],
      "metadata": {
        "id": "xsz1yMsjOkRc"
      },
      "execution_count": 8,
      "outputs": []
    },
    {
      "cell_type": "code",
      "source": [
        "from google.colab import files\n",
        "import pandas as pd\n",
        "import io\n",
        "\n",
        "uploaded = files.upload()\n",
        "\n",
        "file_names = list(uploaded.keys())\n",
        "\n",
        "df_applications = pd.read_csv(io.BytesIO(uploaded[file_names[0]]))\n",
        "df_industries = pd.read_csv(io.BytesIO(uploaded[file_names[1]]))\n",
        "\n",
        "print(\"Datele inițiale din applications.csv:\")\n",
        "print(df_applications.head())\n",
        "print(\"\\nDatele inițiale din industries.csv:\")\n",
        "print(df_industries.head())"
      ],
      "metadata": {
        "colab": {
          "base_uri": "https://localhost:8080/",
          "height": 733
        },
        "id": "PPmlrYoOP_S2",
        "outputId": "5944006b-4f66-4f97-b26b-4be12feb6e14"
      },
      "execution_count": 9,
      "outputs": [
        {
          "output_type": "display_data",
          "data": {
            "text/plain": [
              "<IPython.core.display.HTML object>"
            ],
            "text/html": [
              "\n",
              "     <input type=\"file\" id=\"files-76dc115a-c8bc-400e-a94a-842cec93ca8b\" name=\"files[]\" multiple disabled\n",
              "        style=\"border:none\" />\n",
              "     <output id=\"result-76dc115a-c8bc-400e-a94a-842cec93ca8b\">\n",
              "      Upload widget is only available when the cell has been executed in the\n",
              "      current browser session. Please rerun this cell to enable.\n",
              "      </output>\n",
              "      <script>// Copyright 2017 Google LLC\n",
              "//\n",
              "// Licensed under the Apache License, Version 2.0 (the \"License\");\n",
              "// you may not use this file except in compliance with the License.\n",
              "// You may obtain a copy of the License at\n",
              "//\n",
              "//      http://www.apache.org/licenses/LICENSE-2.0\n",
              "//\n",
              "// Unless required by applicable law or agreed to in writing, software\n",
              "// distributed under the License is distributed on an \"AS IS\" BASIS,\n",
              "// WITHOUT WARRANTIES OR CONDITIONS OF ANY KIND, either express or implied.\n",
              "// See the License for the specific language governing permissions and\n",
              "// limitations under the License.\n",
              "\n",
              "/**\n",
              " * @fileoverview Helpers for google.colab Python module.\n",
              " */\n",
              "(function(scope) {\n",
              "function span(text, styleAttributes = {}) {\n",
              "  const element = document.createElement('span');\n",
              "  element.textContent = text;\n",
              "  for (const key of Object.keys(styleAttributes)) {\n",
              "    element.style[key] = styleAttributes[key];\n",
              "  }\n",
              "  return element;\n",
              "}\n",
              "\n",
              "// Max number of bytes which will be uploaded at a time.\n",
              "const MAX_PAYLOAD_SIZE = 100 * 1024;\n",
              "\n",
              "function _uploadFiles(inputId, outputId) {\n",
              "  const steps = uploadFilesStep(inputId, outputId);\n",
              "  const outputElement = document.getElementById(outputId);\n",
              "  // Cache steps on the outputElement to make it available for the next call\n",
              "  // to uploadFilesContinue from Python.\n",
              "  outputElement.steps = steps;\n",
              "\n",
              "  return _uploadFilesContinue(outputId);\n",
              "}\n",
              "\n",
              "// This is roughly an async generator (not supported in the browser yet),\n",
              "// where there are multiple asynchronous steps and the Python side is going\n",
              "// to poll for completion of each step.\n",
              "// This uses a Promise to block the python side on completion of each step,\n",
              "// then passes the result of the previous step as the input to the next step.\n",
              "function _uploadFilesContinue(outputId) {\n",
              "  const outputElement = document.getElementById(outputId);\n",
              "  const steps = outputElement.steps;\n",
              "\n",
              "  const next = steps.next(outputElement.lastPromiseValue);\n",
              "  return Promise.resolve(next.value.promise).then((value) => {\n",
              "    // Cache the last promise value to make it available to the next\n",
              "    // step of the generator.\n",
              "    outputElement.lastPromiseValue = value;\n",
              "    return next.value.response;\n",
              "  });\n",
              "}\n",
              "\n",
              "/**\n",
              " * Generator function which is called between each async step of the upload\n",
              " * process.\n",
              " * @param {string} inputId Element ID of the input file picker element.\n",
              " * @param {string} outputId Element ID of the output display.\n",
              " * @return {!Iterable<!Object>} Iterable of next steps.\n",
              " */\n",
              "function* uploadFilesStep(inputId, outputId) {\n",
              "  const inputElement = document.getElementById(inputId);\n",
              "  inputElement.disabled = false;\n",
              "\n",
              "  const outputElement = document.getElementById(outputId);\n",
              "  outputElement.innerHTML = '';\n",
              "\n",
              "  const pickedPromise = new Promise((resolve) => {\n",
              "    inputElement.addEventListener('change', (e) => {\n",
              "      resolve(e.target.files);\n",
              "    });\n",
              "  });\n",
              "\n",
              "  const cancel = document.createElement('button');\n",
              "  inputElement.parentElement.appendChild(cancel);\n",
              "  cancel.textContent = 'Cancel upload';\n",
              "  const cancelPromise = new Promise((resolve) => {\n",
              "    cancel.onclick = () => {\n",
              "      resolve(null);\n",
              "    };\n",
              "  });\n",
              "\n",
              "  // Wait for the user to pick the files.\n",
              "  const files = yield {\n",
              "    promise: Promise.race([pickedPromise, cancelPromise]),\n",
              "    response: {\n",
              "      action: 'starting',\n",
              "    }\n",
              "  };\n",
              "\n",
              "  cancel.remove();\n",
              "\n",
              "  // Disable the input element since further picks are not allowed.\n",
              "  inputElement.disabled = true;\n",
              "\n",
              "  if (!files) {\n",
              "    return {\n",
              "      response: {\n",
              "        action: 'complete',\n",
              "      }\n",
              "    };\n",
              "  }\n",
              "\n",
              "  for (const file of files) {\n",
              "    const li = document.createElement('li');\n",
              "    li.append(span(file.name, {fontWeight: 'bold'}));\n",
              "    li.append(span(\n",
              "        `(${file.type || 'n/a'}) - ${file.size} bytes, ` +\n",
              "        `last modified: ${\n",
              "            file.lastModifiedDate ? file.lastModifiedDate.toLocaleDateString() :\n",
              "                                    'n/a'} - `));\n",
              "    const percent = span('0% done');\n",
              "    li.appendChild(percent);\n",
              "\n",
              "    outputElement.appendChild(li);\n",
              "\n",
              "    const fileDataPromise = new Promise((resolve) => {\n",
              "      const reader = new FileReader();\n",
              "      reader.onload = (e) => {\n",
              "        resolve(e.target.result);\n",
              "      };\n",
              "      reader.readAsArrayBuffer(file);\n",
              "    });\n",
              "    // Wait for the data to be ready.\n",
              "    let fileData = yield {\n",
              "      promise: fileDataPromise,\n",
              "      response: {\n",
              "        action: 'continue',\n",
              "      }\n",
              "    };\n",
              "\n",
              "    // Use a chunked sending to avoid message size limits. See b/62115660.\n",
              "    let position = 0;\n",
              "    do {\n",
              "      const length = Math.min(fileData.byteLength - position, MAX_PAYLOAD_SIZE);\n",
              "      const chunk = new Uint8Array(fileData, position, length);\n",
              "      position += length;\n",
              "\n",
              "      const base64 = btoa(String.fromCharCode.apply(null, chunk));\n",
              "      yield {\n",
              "        response: {\n",
              "          action: 'append',\n",
              "          file: file.name,\n",
              "          data: base64,\n",
              "        },\n",
              "      };\n",
              "\n",
              "      let percentDone = fileData.byteLength === 0 ?\n",
              "          100 :\n",
              "          Math.round((position / fileData.byteLength) * 100);\n",
              "      percent.textContent = `${percentDone}% done`;\n",
              "\n",
              "    } while (position < fileData.byteLength);\n",
              "  }\n",
              "\n",
              "  // All done.\n",
              "  yield {\n",
              "    response: {\n",
              "      action: 'complete',\n",
              "    }\n",
              "  };\n",
              "}\n",
              "\n",
              "scope.google = scope.google || {};\n",
              "scope.google.colab = scope.google.colab || {};\n",
              "scope.google.colab._files = {\n",
              "  _uploadFiles,\n",
              "  _uploadFilesContinue,\n",
              "};\n",
              "})(self);\n",
              "</script> "
            ]
          },
          "metadata": {}
        },
        {
          "output_type": "stream",
          "name": "stdout",
          "text": [
            "Saving applications.csv to applications.csv\n",
            "Saving industries.csv to industries.csv\n",
            "Datele inițiale din applications.csv:\n",
            "            Applied at   Amount  Age  Gender                      Industry  \\\n",
            "0  11.30.2022 10:26:37  12000.0   29    Male                    Blockchain   \n",
            "1  11.30.2022 10:26:39      NaN   36    Male  Public services / Government   \n",
            "2  11.30.2022 10:26:58   7500.0   34    Male          Adtech / Advertising   \n",
            "3  11.30.2022 10:27:31   1500.0   23  Female                       Telecom   \n",
            "4  11.30.2022 10:27:34   8400.0   33  Female                    Automotive   \n",
            "\n",
            "  Marital status  External Rating  \\\n",
            "0          Other              8.0   \n",
            "1         Single              3.0   \n",
            "2         Single              4.0   \n",
            "3         Single              0.0   \n",
            "4         Single              6.0   \n",
            "\n",
            "                                     Education level         Location  \\\n",
            "0  Higher Degree (bachelor's, specialist's, maste...    Spain, Madrid   \n",
            "1  Higher Degree (bachelor's, specialist's, maste...              NaN   \n",
            "2  Higher Degree (bachelor's, specialist's, maste...   Poland, Warsaw   \n",
            "3  Higher Degree (bachelor's, specialist's, maste...  Germany, Berlin   \n",
            "4  Higher Degree (bachelor's, specialist's, maste...  Bulgaria, Sofia   \n",
            "\n",
            "                       applicant_id  \n",
            "0  99e7b0dc6cc05dd334d8f38dc26ce9b3  \n",
            "1  63dfcf8e6904186650d6814279fbe42f  \n",
            "2  10dbafaeb46c09e96b6987c03bbb3498  \n",
            "3  5847ac62cc9eac5e323c2517dcc91ad1  \n",
            "4  5d21f3795b50de8e8f8f8d5f48b754f3  \n",
            "\n",
            "Datele inițiale din industries.csv:\n",
            "                       Industry  Score\n",
            "0                    Blockchain      0\n",
            "1  Public services / Government     20\n",
            "2          Adtech / Advertising     10\n",
            "3                       Telecom     15\n",
            "4                    Automotive     15\n"
          ]
        }
      ]
    },
    {
      "cell_type": "code",
      "source": [
        "df_applications['Applied at'] = pd.to_datetime(df_applications['Applied at'], format='%m.%d.%Y %H:%M', errors='coerce')"
      ],
      "metadata": {
        "id": "wow5oYH1naN8"
      },
      "execution_count": 10,
      "outputs": []
    },
    {
      "cell_type": "code",
      "source": [
        "df_applications = df_applications.drop_duplicates(subset='applicant_id')"
      ],
      "metadata": {
        "id": "P9hVuZwORf8A"
      },
      "execution_count": 11,
      "outputs": []
    },
    {
      "cell_type": "code",
      "source": [
        "df_applications['External Rating'] = df_applications['External Rating'].fillna(0)"
      ],
      "metadata": {
        "id": "nPDBItcvRm_Y"
      },
      "execution_count": 12,
      "outputs": []
    },
    {
      "cell_type": "code",
      "source": [
        "df_applications['Education level'] = df_applications['Education level'].fillna('Average')"
      ],
      "metadata": {
        "id": "fGd-gA4oRpoc"
      },
      "execution_count": 13,
      "outputs": []
    },
    {
      "cell_type": "code",
      "source": [
        "df_merged = pd.merge(df_applications, df_industries, on='Industry', how='left')"
      ],
      "metadata": {
        "id": "KfjRt6yNRyZO"
      },
      "execution_count": 14,
      "outputs": []
    },
    {
      "cell_type": "code",
      "source": [
        "evaluation = (\n",
        "    (df_merged['Age'].between(35, 55) * 20) +\n",
        "    (pd.to_datetime(df_merged['Applied at']).dt.dayofweek >= 5) * 20 +\n",
        "    (df_merged['Marital status'] == 'Married') * 20 +\n",
        "    ((df_merged['Location'] == 'Kyiv') | (df_merged['Location'] == 'Region')) * 10 +\n",
        "    df_merged['Score'] +\n",
        "    (df_merged['External Rating'] >= 7) * 20 -\n",
        "    (df_merged['External Rating'] <= 2) * 20\n",
        ")\n"
      ],
      "metadata": {
        "id": "nyPvBw8AR8fu"
      },
      "execution_count": 15,
      "outputs": []
    },
    {
      "cell_type": "code",
      "source": [
        "file_path_industries = \"industries.csv\"\n",
        "df_industries = pd.read_csv(file_path_industries)\n",
        "df_merged = pd.merge(df_applications, df_industries, on='Industry', how='left')"
      ],
      "metadata": {
        "id": "Ja8rfApPn9f7"
      },
      "execution_count": 16,
      "outputs": []
    },
    {
      "cell_type": "code",
      "source": [
        "df_merged['Evaluation'] = evaluation.clip(lower=0, upper=100)"
      ],
      "metadata": {
        "id": "6kDtiBw5oPeU"
      },
      "execution_count": 17,
      "outputs": []
    },
    {
      "cell_type": "code",
      "source": [
        "df_accepted = df_merged[df_merged['Evaluation'] > 0]"
      ],
      "metadata": {
        "id": "TOiTIXUEoSs7"
      },
      "execution_count": 19,
      "outputs": []
    },
    {
      "cell_type": "code",
      "source": [
        "weekly_evaluation = df_accepted.groupby(df_accepted['Applied at'].dt.isocalendar().week)['Evaluation'].mean()\n",
        "weekly_evaluation.plot(kind='bar', xlabel='Week', ylabel='Average Evaluation', title='Average Evaluation per Week')\n",
        "plt.show()"
      ],
      "metadata": {
        "colab": {
          "base_uri": "https://localhost:8080/",
          "height": 475
        },
        "id": "38_fbnc-oV1D",
        "outputId": "b0623730-8420-47c2-ae62-e36f19e9d0ff"
      },
      "execution_count": 20,
      "outputs": [
        {
          "output_type": "display_data",
          "data": {
            "text/plain": [
              "<Figure size 640x480 with 1 Axes>"
            ],
            "image/png": "[encoded data removed]"
          },
          "metadata": {}
        }
      ]
    }
  ]
}